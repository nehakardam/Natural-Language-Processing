{
 "cells": [
  {
   "cell_type": "markdown",
   "metadata": {},
   "source": [
    "# CSE517 Assignment: A2_1.3\n",
    "A well-known problem with substitution ciphers is that, in a long ciphertext, the frequency of encrypt(x)\n",
    "will be close to the frequency of x in plaintext. In natural languages, there is a lot of variance in different\n",
    "symbols’ frequencies. (For words, “Zipf’s Law” states that the probability of the rth most frequent\n",
    "word in a text corpus will have relative frequency proportional to 1\n",
    "r .) Your task is to exploit this problem\n",
    "to decrypt the ciphertext we provide to you. The original plaintext is in all-upper-cased English.\n",
    "You may assume the space symbol, numerical digits, and any other non-alphabetic symbols are fixed.\n",
    "This implies that N = 26. We suggest that you automate the calculation and visualization of the\n",
    "symbol frequencies. Some manual search may be required since your ciphertext (and any plaintext\n",
    "you use to estimate English relative frequencies) will be finite, leading to variance in your estimates.\n",
    "You should submit your decrypted text."
   ]
  },
  {
   "cell_type": "code",
   "execution_count": 38,
   "metadata": {},
   "outputs": [],
   "source": [
    "import random\n",
    "import numpy as np\n",
    "import matplotlib.pyplot as plt\n",
    "import pandas as pd\n",
    "from math import sqrt"
   ]
  },
  {
   "cell_type": "code",
   "execution_count": 11,
   "metadata": {},
   "outputs": [],
   "source": [
    "e=open(r'/Users/nehakardam/Documents/UWclasses /CSE NLP/A2/A2.encrypted.txt', encoding='utf8')"
   ]
  },
  {
   "cell_type": "code",
   "execution_count": 12,
   "metadata": {},
   "outputs": [],
   "source": [
    "def convert_line_to_dict(input_line, char_dict):\n",
    "    for char in input_line:\n",
    "        if char in char_dict:\n",
    "            char_dict[char] = char_dict.get(char) + 1\n",
    "        else: \n",
    "            if (ord(char) >= 65) and (ord(char) <= 90):\n",
    "                char_dict[char] = 1\n",
    "\n",
    "def convert_text_to_dict(file, char_dict):\n",
    "    for line in file:\n",
    "        convert_line_to_dict(line, char_dict)"
   ]
  },
  {
   "cell_type": "code",
   "execution_count": 13,
   "metadata": {},
   "outputs": [
    {
     "data": {
      "text/plain": [
       "[('O', 495),\n",
       " ('H', 357),\n",
       " ('Z', 313),\n",
       " ('L', 288),\n",
       " ('B', 283),\n",
       " ('F', 277),\n",
       " ('T', 266),\n",
       " ('X', 209),\n",
       " ('D', 182),\n",
       " ('V', 170),\n",
       " ('C', 159),\n",
       " ('Y', 126),\n",
       " ('I', 111),\n",
       " ('R', 97),\n",
       " ('N', 88),\n",
       " ('P', 84),\n",
       " ('U', 79),\n",
       " ('E', 76),\n",
       " ('G', 76),\n",
       " ('S', 73),\n",
       " ('K', 46),\n",
       " ('W', 42),\n",
       " ('M', 9),\n",
       " ('Q', 6),\n",
       " ('A', 5),\n",
       " ('J', 4)]"
      ]
     },
     "execution_count": 13,
     "metadata": {},
     "output_type": "execute_result"
    }
   ],
   "source": [
    "encrypted_char_dict = {}\n",
    "convert_text_to_dict(e, encrypted_char_dict)\n",
    "encrypted_char_list = sorted(encrypted_char_dict.items(), key=lambda x: x[1], reverse=True)\n",
    "encrypted_char_list"
   ]
  },
  {
   "cell_type": "markdown",
   "metadata": {},
   "source": [
    "Train Corpus: https://www.gutenberg.org/files/65728/65728-0.txt"
   ]
  },
  {
   "cell_type": "code",
   "execution_count": 14,
   "metadata": {},
   "outputs": [],
   "source": [
    "d=open(r'/Users/nehakardam/Documents/UWclasses /CSE NLP/A2/A2_train_corpus.txt', encoding='utf8')"
   ]
  },
  {
   "cell_type": "code",
   "execution_count": 15,
   "metadata": {},
   "outputs": [
    {
     "data": {
      "text/plain": [
       "[('E', 93834),\n",
       " ('T', 75541),\n",
       " ('O', 66465),\n",
       " ('I', 56202),\n",
       " ('R', 56152),\n",
       " ('N', 52641),\n",
       " ('A', 52318),\n",
       " ('S', 42572),\n",
       " ('H', 33268),\n",
       " ('D', 31694),\n",
       " ('L', 27999),\n",
       " ('U', 25138),\n",
       " ('C', 23638),\n",
       " ('G', 19864),\n",
       " ('M', 18199),\n",
       " ('P', 18062),\n",
       " ('Y', 17649),\n",
       " ('F', 16902),\n",
       " ('W', 14910),\n",
       " ('B', 12856),\n",
       " ('K', 7796),\n",
       " ('V', 5374),\n",
       " ('J', 3106),\n",
       " ('Q', 1586),\n",
       " ('X', 1242),\n",
       " ('Z', 62)]"
      ]
     },
     "execution_count": 15,
     "metadata": {},
     "output_type": "execute_result"
    }
   ],
   "source": [
    "plain_char_dict = {}\n",
    "convert_text_to_dict(d, plain_char_dict)\n",
    "plain_char_list = sorted(plain_char_dict.items(), key=lambda x: x[1], reverse=True)\n",
    "plain_char_list"
   ]
  },
  {
   "cell_type": "code",
   "execution_count": 16,
   "metadata": {},
   "outputs": [
    {
     "data": {
      "text/plain": [
       "{'O': 'E',\n",
       " 'H': 'T',\n",
       " 'Z': 'O',\n",
       " 'L': 'I',\n",
       " 'B': 'A',\n",
       " 'F': 'S',\n",
       " 'T': 'N',\n",
       " 'X': 'R',\n",
       " 'D': 'L',\n",
       " 'V': 'H',\n",
       " 'C': 'U',\n",
       " 'Y': 'M',\n",
       " 'I': 'D',\n",
       " 'R': 'C',\n",
       " 'N': 'W',\n",
       " 'P': 'F',\n",
       " 'U': 'G',\n",
       " 'E': 'B',\n",
       " 'G': 'Y',\n",
       " 'S': 'P',\n",
       " 'K': 'V',\n",
       " 'W': 'K',\n",
       " 'M': 'J',\n",
       " 'Q': 'Z',\n",
       " 'A': 'X',\n",
       " 'J': 'Q'}"
      ]
     },
     "execution_count": 16,
     "metadata": {},
     "output_type": "execute_result"
    }
   ],
   "source": [
    "converter_dict = {}\n",
    "for i in range(26):\n",
    "    converter_dict[encrypted_char_list[i][0]] =  plain_char_list[i][0]\n",
    "# converter_dict['I'] = 'S'\n",
    "converter_dict['F'] = 'S'\n",
    "converter_dict['E'] = 'B'\n",
    "converter_dict['N'] = 'U'\n",
    "converter_dict['C'] = 'U'\n",
    "converter_dict['B'] = 'A'\n",
    "converter_dict['U'] = 'G'\n",
    "converter_dict['T'] = 'N'\n",
    "converter_dict['Y'] = 'M'\n",
    "converter_dict['S'] = 'P'\n",
    "converter_dict['I'] = 'D'\n",
    "converter_dict['P'] = 'F'\n",
    "converter_dict['K'] = 'V'\n",
    "converter_dict['V'] = 'H'\n",
    "converter_dict['X'] = 'R'\n",
    "converter_dict['G'] = 'Y'\n",
    "converter_dict['R'] = 'C'\n",
    "converter_dict['D'] = 'L'\n",
    "converter_dict['Q'] = 'Z'\n",
    "converter_dict['W'] = 'K'\n",
    "converter_dict['J'] = 'Q'\n",
    "converter_dict['N'] = 'W'\n",
    "# converter_dict['V'] = 'H'\n",
    "converter_dict"
   ]
  },
  {
   "cell_type": "code",
   "execution_count": 17,
   "metadata": {},
   "outputs": [],
   "source": [
    "e=open(r'/Users/nehakardam/Documents/UWclasses /CSE NLP/A2/A2.encrypted.txt', encoding='utf8')\n",
    "o=open(r'/Users/nehakardam/Documents/UWclasses /CSE NLP/A2/A2.decrypted.txt', 'w', encoding='utf8')\n",
    "\n",
    "def decrypt_line(input_line):\n",
    "    output_line = \"\"\n",
    "    for char in input_line:\n",
    "        if (ord(char) >= 65) and (ord(char) <= 90):\n",
    "            output_line = output_line + converter_dict[char]\n",
    "        else:\n",
    "            output_line = output_line + char\n",
    "    return output_line\n",
    "\n",
    "def decrypt_text(file):\n",
    "    for line in file:\n",
    "        nline = decrypt_line(line)\n",
    "        o.write(nline)\n",
    "    o.close()\n",
    "\n",
    "decrypt_text(e)"
   ]
  },
  {
   "cell_type": "code",
   "execution_count": 21,
   "metadata": {},
   "outputs": [
    {
     "data": {
      "text/plain": [
       "[('E', 0.1262433052792655),\n",
       " ('T', 0.09104820198928845),\n",
       " ('O', 0.07982657485335373),\n",
       " ('I', 0.07345065034429993),\n",
       " ('A', 0.07217546544248916),\n",
       " ('S', 0.07064524356031625),\n",
       " ('N', 0.06783983677633257),\n",
       " ('R', 0.05330272889568988),\n",
       " ('L', 0.04641673042591176),\n",
       " ('H', 0.04335628666156593),\n",
       " ('U', 0.04055087987758225),\n",
       " ('M', 0.032134659525631215),\n",
       " ('D', 0.028309104820198928),\n",
       " ('C', 0.024738587095128793),\n",
       " ('W', 0.022443254271869422),\n",
       " ('F', 0.02142310635042081),\n",
       " ('G', 0.020147921448610048),\n",
       " ('B', 0.01938281050752359),\n",
       " ('Y', 0.01938281050752359),\n",
       " ('P', 0.018617699566437135),\n",
       " ('V', 0.011731701096659015),\n",
       " ('K', 0.010711553175210406),\n",
       " ('J', 0.0022953328232593728),\n",
       " ('Z', 0.001530221882172915),\n",
       " ('X', 0.0012751849018107625),\n",
       " ('Q', 0.00102014792144861)]"
      ]
     },
     "execution_count": 21,
     "metadata": {},
     "output_type": "execute_result"
    }
   ],
   "source": [
    "total_count = 0\n",
    "encrypted_char_list_with_freq = []\n",
    "for element in encrypted_char_list:\n",
    "    total_count = total_count + element[1]\n",
    "for element in encrypted_char_list:\n",
    "    encrypted_char_list_with_freq.append((converter_dict[element[0]], element[1]/total_count))\n",
    "encrypted_char_list_with_freq    "
   ]
  },
  {
   "cell_type": "code",
   "execution_count": 34,
   "metadata": {},
   "outputs": [
    {
     "data": {
      "text/plain": [
       "{'E': 'O',\n",
       " 'T': 'H',\n",
       " 'O': 'Z',\n",
       " 'I': 'L',\n",
       " 'A': 'B',\n",
       " 'S': 'F',\n",
       " 'N': 'T',\n",
       " 'R': 'X',\n",
       " 'L': 'D',\n",
       " 'H': 'V',\n",
       " 'U': 'C',\n",
       " 'M': 'Y',\n",
       " 'D': 'I',\n",
       " 'C': 'R',\n",
       " 'W': 'N',\n",
       " 'F': 'P',\n",
       " 'G': 'U',\n",
       " 'B': 'E',\n",
       " 'Y': 'G',\n",
       " 'P': 'S',\n",
       " 'V': 'K',\n",
       " 'K': 'W',\n",
       " 'J': 'M',\n",
       " 'Z': 'Q',\n",
       " 'X': 'A',\n",
       " 'Q': 'J'}"
      ]
     },
     "execution_count": 34,
     "metadata": {},
     "output_type": "execute_result"
    }
   ],
   "source": [
    "encrypter_dict = {v: k for k, v in converter_dict.items()}\n",
    "encrypter_dict"
   ]
  },
  {
   "cell_type": "markdown",
   "metadata": {},
   "source": [
    "# Part 1.5:\n",
    "One way to make a cipher more robust to the analysis discussed above is to augment the output\n",
    "alphabet with more symbols: encrypt : Σ → Σ ∪ Γ. Then, during encryption, instances of more\n",
    "frequent input symbols can be randomly assigned to multiple output symbols. For example, suppose\n",
    "that e is the most frequent symbol in a plaintext corpus, accounting for 5% of tokens. We would then\n",
    "allocate 0.05|Σ∪Γ| symbols to e, any of which might be chosen uniformly at random when encoding\n",
    "e. If we do this for every symbol in Σ, then the frequencies of all symbols in Σ ∪ Γ will be roughly\n",
    "equal in a ciphertext. If we require that the encoding function be deterministic, how would you design\n",
    "this new cipher to prevent frequency analysis attacks?"
   ]
  },
  {
   "cell_type": "markdown",
   "metadata": {},
   "source": [
    "### First lets add more symbols '@', '#', '$', '%', '~', '^' "
   ]
  },
  {
   "cell_type": "markdown",
   "metadata": {},
   "source": [
    "##### | E U T | = 26 + 6 (new ones) = 32\n",
    "Most frequent symbols:\n",
    "Number of symbols for 'E' =  3\n",
    "Number of symbols for 'T' =  2\n",
    "Number of symbols for 'O' =  2\n",
    "Number of symbols for 'I' =  2\n",
    "Number of symbols for 'A' =  2"
   ]
  },
  {
   "cell_type": "code",
   "execution_count": 35,
   "metadata": {},
   "outputs": [],
   "source": [
    "encrypter_dict['E'] = ('O', '@', '#')\n",
    "encrypter_dict['T'] = ('H', '%')\n",
    "encrypter_dict['O'] = ('Z', '~')\n",
    "encrypter_dict['I'] = ('L', '^')\n",
    "encrypter_dict['A'] = ('B', '$')"
   ]
  },
  {
   "cell_type": "code",
   "execution_count": 36,
   "metadata": {},
   "outputs": [
    {
     "data": {
      "text/plain": [
       "{'E': ('O', '@', '#'),\n",
       " 'T': ('H', '%'),\n",
       " 'O': ('Z', '~'),\n",
       " 'I': ('L', '^'),\n",
       " 'A': ('B', '$'),\n",
       " 'S': 'F',\n",
       " 'N': 'T',\n",
       " 'R': 'X',\n",
       " 'L': 'D',\n",
       " 'H': 'V',\n",
       " 'U': 'C',\n",
       " 'M': 'Y',\n",
       " 'D': 'I',\n",
       " 'C': 'R',\n",
       " 'W': 'N',\n",
       " 'F': 'P',\n",
       " 'G': 'U',\n",
       " 'B': 'E',\n",
       " 'Y': 'G',\n",
       " 'P': 'S',\n",
       " 'V': 'K',\n",
       " 'K': 'W',\n",
       " 'J': 'M',\n",
       " 'Z': 'Q',\n",
       " 'X': 'A',\n",
       " 'Q': 'J'}"
      ]
     },
     "execution_count": 36,
     "metadata": {},
     "output_type": "execute_result"
    }
   ],
   "source": [
    "encrypter_dict"
   ]
  },
  {
   "cell_type": "code",
   "execution_count": 45,
   "metadata": {},
   "outputs": [],
   "source": [
    "e=open(r'/Users/nehakardam/Documents/UWclasses /CSE NLP/A2/A2.decrypted.txt', encoding='utf8')\n",
    "o=open(r'/Users/nehakardam/Documents/UWclasses /CSE NLP/A2/A2.new_encrypted.txt', 'w', encoding='utf8')\n",
    "def encrypt_line(input_line):\n",
    "    output_line = \"\"\n",
    "    for char in input_line:\n",
    "        if (ord(char) >= 65) and (ord(char) <= 90):\n",
    "            if type(encrypter_dict['E']) is tuple:\n",
    "                output_line = output_line + random.choice(encrypter_dict[char])\n",
    "            else:\n",
    "                output_line = output_line + encrypter_dict[char]\n",
    "        else:\n",
    "            output_line = output_line + char\n",
    "    return output_line\n",
    "\n",
    "def encrypt_text(file):\n",
    "    for line in file:\n",
    "        nline = encrypt_line(line)\n",
    "        o.write(nline)\n",
    "    o.close()\n",
    "\n",
    "encrypt_text(e)"
   ]
  }
 ],
 "metadata": {
  "kernelspec": {
   "display_name": "Python 3 (ipykernel)",
   "language": "python",
   "name": "python3"
  },
  "language_info": {
   "codemirror_mode": {
    "name": "ipython",
    "version": 3
   },
   "file_extension": ".py",
   "mimetype": "text/x-python",
   "name": "python",
   "nbconvert_exporter": "python",
   "pygments_lexer": "ipython3",
   "version": "3.8.12"
  }
 },
 "nbformat": 4,
 "nbformat_minor": 4
}
